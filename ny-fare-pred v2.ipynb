{
 "cells": [
  {
   "cell_type": "code",
   "execution_count": 1,
   "metadata": {
    "_cell_guid": "b1076dfc-b9ad-4769-8c92-a6c4dae69d19",
    "_uuid": "8f2839f25d086af736a60e9eeb907d3b93b6e0e5",
    "execution": {
     "iopub.execute_input": "2023-03-11T10:08:02.899394Z",
     "iopub.status.busy": "2023-03-11T10:08:02.898286Z",
     "iopub.status.idle": "2023-03-11T10:08:02.931273Z",
     "shell.execute_reply": "2023-03-11T10:08:02.929981Z",
     "shell.execute_reply.started": "2023-03-11T10:08:02.899351Z"
    }
   },
   "outputs": [
    {
     "name": "stdout",
     "output_type": "stream",
     "text": [
      "/kaggle/input/new-york-city-taxi-fare-prediction/sample_submission.csv\n",
      "/kaggle/input/new-york-city-taxi-fare-prediction/GCP-Coupons-Instructions.rtf\n",
      "/kaggle/input/new-york-city-taxi-fare-prediction/train.csv\n",
      "/kaggle/input/new-york-city-taxi-fare-prediction/test.csv\n"
     ]
    }
   ],
   "source": [
    "# This Python 3 environment comes with many helpful analytics libraries installed\n",
    "# It is defined by the kaggle/python Docker image: https://github.com/kaggle/docker-python\n",
    "# For example, here's several helpful packages to load\n",
    "\n",
    "import numpy as np # linear algebra\n",
    "import pandas as pd # data processing, CSV file I/O (e.g. pd.read_csv)\n",
    "\n",
    "# Input data files are available in the read-only \"../input/\" directory\n",
    "# For example, running this (by clicking run or pressing Shift+Enter) will list all files under the input directory\n",
    "\n",
    "import os\n",
    "for dirname, _, filenames in os.walk('/kaggle/input'):\n",
    "    for filename in filenames:\n",
    "        print(os.path.join(dirname, filename))\n",
    "\n",
    "# You can write up to 20GB to the current directory (/kaggle/working/) that gets preserved as output when you create a version using \"Save & Run All\" \n",
    "# You can also write temporary files to /kaggle/temp/, but they won't be saved outside of the current session"
   ]
  },
  {
   "cell_type": "markdown",
   "metadata": {},
   "source": [
    "\n",
    "## Importing the required libraries\n"
   ]
  },
  {
   "cell_type": "code",
   "execution_count": 2,
   "metadata": {
    "execution": {
     "iopub.execute_input": "2023-03-11T10:08:02.945438Z",
     "iopub.status.busy": "2023-03-11T10:08:02.944323Z",
     "iopub.status.idle": "2023-03-11T10:08:04.082546Z",
     "shell.execute_reply": "2023-03-11T10:08:04.080266Z",
     "shell.execute_reply.started": "2023-03-11T10:08:02.945382Z"
    }
   },
   "outputs": [],
   "source": [
    "import pandas as pd\n",
    "import numpy as np\n",
    "import random\n",
    "from sklearn.model_selection import train_test_split\n",
    "from sklearn.metrics import mean_squared_error\n",
    "from sklearn.linear_model import LinearRegression"
   ]
  },
  {
   "cell_type": "markdown",
   "metadata": {},
   "source": [
    "## Reading the datasets"
   ]
  },
  {
   "cell_type": "markdown",
   "metadata": {},
   "source": [
    "The datasets has over 5 million rows, working with all the rows at once, might becomne a bit problematic and slow down our device, for this initial prediction, i will be working with 1% of the total training data which should be 500,000 plus rows"
   ]
  },
  {
   "cell_type": "code",
   "execution_count": 3,
   "metadata": {
    "execution": {
     "iopub.execute_input": "2023-03-11T10:08:04.085535Z",
     "iopub.status.busy": "2023-03-11T10:08:04.085130Z",
     "iopub.status.idle": "2023-03-11T10:11:51.095049Z",
     "shell.execute_reply": "2023-03-11T10:11:51.093835Z",
     "shell.execute_reply.started": "2023-03-11T10:08:04.085500Z"
    }
   },
   "outputs": [],
   "source": [
    "#Loading the train_df\n",
    "#The training data path\n",
    "train_path = '/kaggle/input/new-york-city-taxi-fare-prediction/train.csv'\n",
    "\n",
    "#Defining constants\n",
    "sample_fraction = 0.01\n",
    "random.seed(92)\n",
    "\n",
    "#Defining the function to randomly sample 1 percent of the data\n",
    "def skip_row(idx):\n",
    "    if idx == 0:\n",
    "        return False\n",
    "    return random.random() > sample_fraction\n",
    "\n",
    "#Loading the df\n",
    "df = pd.read_csv(train_path, parse_dates = ['pickup_datetime'], skiprows = skip_row)"
   ]
  },
  {
   "cell_type": "code",
   "execution_count": 4,
   "metadata": {
    "execution": {
     "iopub.execute_input": "2023-03-11T10:11:51.097129Z",
     "iopub.status.busy": "2023-03-11T10:11:51.096593Z",
     "iopub.status.idle": "2023-03-11T10:11:51.133739Z",
     "shell.execute_reply": "2023-03-11T10:11:51.132021Z",
     "shell.execute_reply.started": "2023-03-11T10:11:51.097080Z"
    }
   },
   "outputs": [
    {
     "data": {
      "text/html": [
       "<div>\n",
       "<style scoped>\n",
       "    .dataframe tbody tr th:only-of-type {\n",
       "        vertical-align: middle;\n",
       "    }\n",
       "\n",
       "    .dataframe tbody tr th {\n",
       "        vertical-align: top;\n",
       "    }\n",
       "\n",
       "    .dataframe thead th {\n",
       "        text-align: right;\n",
       "    }\n",
       "</style>\n",
       "<table border=\"1\" class=\"dataframe\">\n",
       "  <thead>\n",
       "    <tr style=\"text-align: right;\">\n",
       "      <th></th>\n",
       "      <th>key</th>\n",
       "      <th>fare_amount</th>\n",
       "      <th>pickup_datetime</th>\n",
       "      <th>pickup_longitude</th>\n",
       "      <th>pickup_latitude</th>\n",
       "      <th>dropoff_longitude</th>\n",
       "      <th>dropoff_latitude</th>\n",
       "      <th>passenger_count</th>\n",
       "    </tr>\n",
       "  </thead>\n",
       "  <tbody>\n",
       "    <tr>\n",
       "      <th>0</th>\n",
       "      <td>2009-03-02 20:42:49.0000003</td>\n",
       "      <td>9.8</td>\n",
       "      <td>2009-03-02 20:42:49+00:00</td>\n",
       "      <td>-73.972673</td>\n",
       "      <td>40.759186</td>\n",
       "      <td>-73.969897</td>\n",
       "      <td>40.791367</td>\n",
       "      <td>1</td>\n",
       "    </tr>\n",
       "    <tr>\n",
       "      <th>1</th>\n",
       "      <td>2015-04-12 10:19:05.0000001</td>\n",
       "      <td>11.5</td>\n",
       "      <td>2015-04-12 10:19:05+00:00</td>\n",
       "      <td>-73.979279</td>\n",
       "      <td>40.723438</td>\n",
       "      <td>-74.004608</td>\n",
       "      <td>40.746948</td>\n",
       "      <td>6</td>\n",
       "    </tr>\n",
       "    <tr>\n",
       "      <th>2</th>\n",
       "      <td>2012-11-06 11:33:14.0000004</td>\n",
       "      <td>9.5</td>\n",
       "      <td>2012-11-06 11:33:14+00:00</td>\n",
       "      <td>-73.972195</td>\n",
       "      <td>40.765883</td>\n",
       "      <td>-73.967942</td>\n",
       "      <td>40.761951</td>\n",
       "      <td>1</td>\n",
       "    </tr>\n",
       "    <tr>\n",
       "      <th>3</th>\n",
       "      <td>2012-10-06 15:47:00.000000111</td>\n",
       "      <td>6.5</td>\n",
       "      <td>2012-10-06 15:47:00+00:00</td>\n",
       "      <td>-73.982130</td>\n",
       "      <td>40.774807</td>\n",
       "      <td>-73.973583</td>\n",
       "      <td>40.789645</td>\n",
       "      <td>5</td>\n",
       "    </tr>\n",
       "    <tr>\n",
       "      <th>4</th>\n",
       "      <td>2015-05-31 07:33:18.0000002</td>\n",
       "      <td>16.5</td>\n",
       "      <td>2015-05-31 07:33:18+00:00</td>\n",
       "      <td>-73.996986</td>\n",
       "      <td>40.755428</td>\n",
       "      <td>-73.953194</td>\n",
       "      <td>40.802101</td>\n",
       "      <td>3</td>\n",
       "    </tr>\n",
       "  </tbody>\n",
       "</table>\n",
       "</div>"
      ],
      "text/plain": [
       "                             key  fare_amount           pickup_datetime  \\\n",
       "0    2009-03-02 20:42:49.0000003          9.8 2009-03-02 20:42:49+00:00   \n",
       "1    2015-04-12 10:19:05.0000001         11.5 2015-04-12 10:19:05+00:00   \n",
       "2    2012-11-06 11:33:14.0000004          9.5 2012-11-06 11:33:14+00:00   \n",
       "3  2012-10-06 15:47:00.000000111          6.5 2012-10-06 15:47:00+00:00   \n",
       "4    2015-05-31 07:33:18.0000002         16.5 2015-05-31 07:33:18+00:00   \n",
       "\n",
       "   pickup_longitude  pickup_latitude  dropoff_longitude  dropoff_latitude  \\\n",
       "0        -73.972673        40.759186         -73.969897         40.791367   \n",
       "1        -73.979279        40.723438         -74.004608         40.746948   \n",
       "2        -73.972195        40.765883         -73.967942         40.761951   \n",
       "3        -73.982130        40.774807         -73.973583         40.789645   \n",
       "4        -73.996986        40.755428         -73.953194         40.802101   \n",
       "\n",
       "   passenger_count  \n",
       "0                1  \n",
       "1                6  \n",
       "2                1  \n",
       "3                5  \n",
       "4                3  "
      ]
     },
     "execution_count": 4,
     "metadata": {},
     "output_type": "execute_result"
    }
   ],
   "source": [
    "#Viewing the first 5 rows of the data frame\n",
    "df.head()"
   ]
  },
  {
   "cell_type": "code",
   "execution_count": 5,
   "metadata": {
    "execution": {
     "iopub.execute_input": "2023-03-11T10:11:51.138325Z",
     "iopub.status.busy": "2023-03-11T10:11:51.137495Z",
     "iopub.status.idle": "2023-03-11T10:11:51.497995Z",
     "shell.execute_reply": "2023-03-11T10:11:51.497011Z",
     "shell.execute_reply.started": "2023-03-11T10:11:51.138279Z"
    }
   },
   "outputs": [],
   "source": [
    "#Loading the test_df\n",
    "#The test data path\n",
    "test_path = '/kaggle/input/new-york-city-taxi-fare-prediction/test.csv'\n",
    "\n",
    "#Loading the df\n",
    "test_df = pd.read_csv(test_path, parse_dates = ['pickup_datetime'],)"
   ]
  },
  {
   "cell_type": "markdown",
   "metadata": {},
   "source": [
    "## Exploring the datasets"
   ]
  },
  {
   "cell_type": "code",
   "execution_count": 6,
   "metadata": {
    "execution": {
     "iopub.execute_input": "2023-03-11T10:11:51.500636Z",
     "iopub.status.busy": "2023-03-11T10:11:51.499750Z",
     "iopub.status.idle": "2023-03-11T10:11:51.565873Z",
     "shell.execute_reply": "2023-03-11T10:11:51.564445Z",
     "shell.execute_reply.started": "2023-03-11T10:11:51.500582Z"
    }
   },
   "outputs": [
    {
     "name": "stdout",
     "output_type": "stream",
     "text": [
      "<class 'pandas.core.frame.DataFrame'>\n",
      "RangeIndex: 553345 entries, 0 to 553344\n",
      "Data columns (total 8 columns):\n",
      " #   Column             Non-Null Count   Dtype              \n",
      "---  ------             --------------   -----              \n",
      " 0   key                553345 non-null  object             \n",
      " 1   fare_amount        553345 non-null  float64            \n",
      " 2   pickup_datetime    553345 non-null  datetime64[ns, UTC]\n",
      " 3   pickup_longitude   553345 non-null  float64            \n",
      " 4   pickup_latitude    553345 non-null  float64            \n",
      " 5   dropoff_longitude  553344 non-null  float64            \n",
      " 6   dropoff_latitude   553344 non-null  float64            \n",
      " 7   passenger_count    553345 non-null  int64              \n",
      "dtypes: datetime64[ns, UTC](1), float64(5), int64(1), object(1)\n",
      "memory usage: 33.8+ MB\n"
     ]
    }
   ],
   "source": [
    "#Viewing info about the training data\n",
    "df.info()"
   ]
  },
  {
   "cell_type": "code",
   "execution_count": 7,
   "metadata": {
    "execution": {
     "iopub.execute_input": "2023-03-11T10:11:51.568578Z",
     "iopub.status.busy": "2023-03-11T10:11:51.567848Z",
     "iopub.status.idle": "2023-03-11T10:11:51.792348Z",
     "shell.execute_reply": "2023-03-11T10:11:51.791100Z",
     "shell.execute_reply.started": "2023-03-11T10:11:51.568526Z"
    }
   },
   "outputs": [
    {
     "data": {
      "text/html": [
       "<div>\n",
       "<style scoped>\n",
       "    .dataframe tbody tr th:only-of-type {\n",
       "        vertical-align: middle;\n",
       "    }\n",
       "\n",
       "    .dataframe tbody tr th {\n",
       "        vertical-align: top;\n",
       "    }\n",
       "\n",
       "    .dataframe thead th {\n",
       "        text-align: right;\n",
       "    }\n",
       "</style>\n",
       "<table border=\"1\" class=\"dataframe\">\n",
       "  <thead>\n",
       "    <tr style=\"text-align: right;\">\n",
       "      <th></th>\n",
       "      <th>fare_amount</th>\n",
       "      <th>pickup_longitude</th>\n",
       "      <th>pickup_latitude</th>\n",
       "      <th>dropoff_longitude</th>\n",
       "      <th>dropoff_latitude</th>\n",
       "      <th>passenger_count</th>\n",
       "    </tr>\n",
       "  </thead>\n",
       "  <tbody>\n",
       "    <tr>\n",
       "      <th>count</th>\n",
       "      <td>553345.000000</td>\n",
       "      <td>553345.000000</td>\n",
       "      <td>553345.000000</td>\n",
       "      <td>553344.000000</td>\n",
       "      <td>553344.000000</td>\n",
       "      <td>553345.000000</td>\n",
       "    </tr>\n",
       "    <tr>\n",
       "      <th>mean</th>\n",
       "      <td>11.358222</td>\n",
       "      <td>-72.509886</td>\n",
       "      <td>39.906591</td>\n",
       "      <td>-72.472268</td>\n",
       "      <td>39.913447</td>\n",
       "      <td>1.684567</td>\n",
       "    </tr>\n",
       "    <tr>\n",
       "      <th>std</th>\n",
       "      <td>9.833439</td>\n",
       "      <td>13.800688</td>\n",
       "      <td>10.425359</td>\n",
       "      <td>13.500015</td>\n",
       "      <td>11.529377</td>\n",
       "      <td>1.308479</td>\n",
       "    </tr>\n",
       "    <tr>\n",
       "      <th>min</th>\n",
       "      <td>-52.000000</td>\n",
       "      <td>-3313.387292</td>\n",
       "      <td>-3457.346617</td>\n",
       "      <td>-928.225348</td>\n",
       "      <td>-2909.234763</td>\n",
       "      <td>0.000000</td>\n",
       "    </tr>\n",
       "    <tr>\n",
       "      <th>25%</th>\n",
       "      <td>6.000000</td>\n",
       "      <td>-73.992037</td>\n",
       "      <td>40.734968</td>\n",
       "      <td>-73.991401</td>\n",
       "      <td>40.734028</td>\n",
       "      <td>1.000000</td>\n",
       "    </tr>\n",
       "    <tr>\n",
       "      <th>50%</th>\n",
       "      <td>8.500000</td>\n",
       "      <td>-73.981755</td>\n",
       "      <td>40.752672</td>\n",
       "      <td>-73.980145</td>\n",
       "      <td>40.753132</td>\n",
       "      <td>1.000000</td>\n",
       "    </tr>\n",
       "    <tr>\n",
       "      <th>75%</th>\n",
       "      <td>12.500000</td>\n",
       "      <td>-73.966973</td>\n",
       "      <td>40.767177</td>\n",
       "      <td>-73.963604</td>\n",
       "      <td>40.768109</td>\n",
       "      <td>2.000000</td>\n",
       "    </tr>\n",
       "    <tr>\n",
       "      <th>max</th>\n",
       "      <td>411.110000</td>\n",
       "      <td>2551.566137</td>\n",
       "      <td>2973.980450</td>\n",
       "      <td>3211.579750</td>\n",
       "      <td>3333.304575</td>\n",
       "      <td>9.000000</td>\n",
       "    </tr>\n",
       "  </tbody>\n",
       "</table>\n",
       "</div>"
      ],
      "text/plain": [
       "         fare_amount  pickup_longitude  pickup_latitude  dropoff_longitude  \\\n",
       "count  553345.000000     553345.000000    553345.000000      553344.000000   \n",
       "mean       11.358222        -72.509886        39.906591         -72.472268   \n",
       "std         9.833439         13.800688        10.425359          13.500015   \n",
       "min       -52.000000      -3313.387292     -3457.346617        -928.225348   \n",
       "25%         6.000000        -73.992037        40.734968         -73.991401   \n",
       "50%         8.500000        -73.981755        40.752672         -73.980145   \n",
       "75%        12.500000        -73.966973        40.767177         -73.963604   \n",
       "max       411.110000       2551.566137      2973.980450        3211.579750   \n",
       "\n",
       "       dropoff_latitude  passenger_count  \n",
       "count     553344.000000    553345.000000  \n",
       "mean          39.913447         1.684567  \n",
       "std           11.529377         1.308479  \n",
       "min        -2909.234763         0.000000  \n",
       "25%           40.734028         1.000000  \n",
       "50%           40.753132         1.000000  \n",
       "75%           40.768109         2.000000  \n",
       "max         3333.304575         9.000000  "
      ]
     },
     "execution_count": 7,
     "metadata": {},
     "output_type": "execute_result"
    }
   ],
   "source": [
    "#Statististical summary of the training datset\n",
    "df.describe()"
   ]
  },
  {
   "cell_type": "code",
   "execution_count": 8,
   "metadata": {
    "execution": {
     "iopub.execute_input": "2023-03-11T10:11:51.794364Z",
     "iopub.status.busy": "2023-03-11T10:11:51.793860Z",
     "iopub.status.idle": "2023-03-11T10:11:51.807434Z",
     "shell.execute_reply": "2023-03-11T10:11:51.806526Z",
     "shell.execute_reply.started": "2023-03-11T10:11:51.794324Z"
    }
   },
   "outputs": [
    {
     "data": {
      "text/plain": [
       "(Timestamp('2009-01-01 00:15:42+0000', tz='UTC'),\n",
       " Timestamp('2015-06-30 23:56:38+0000', tz='UTC'))"
      ]
     },
     "execution_count": 8,
     "metadata": {},
     "output_type": "execute_result"
    }
   ],
   "source": [
    "#Checking the min and highest date in the training df\n",
    "df['pickup_datetime'].min(), df['pickup_datetime'].max()"
   ]
  },
  {
   "cell_type": "code",
   "execution_count": 9,
   "metadata": {
    "execution": {
     "iopub.execute_input": "2023-03-11T10:11:51.808719Z",
     "iopub.status.busy": "2023-03-11T10:11:51.808377Z",
     "iopub.status.idle": "2023-03-11T10:11:51.825340Z",
     "shell.execute_reply": "2023-03-11T10:11:51.823983Z",
     "shell.execute_reply.started": "2023-03-11T10:11:51.808679Z"
    }
   },
   "outputs": [
    {
     "name": "stdout",
     "output_type": "stream",
     "text": [
      "<class 'pandas.core.frame.DataFrame'>\n",
      "RangeIndex: 9914 entries, 0 to 9913\n",
      "Data columns (total 7 columns):\n",
      " #   Column             Non-Null Count  Dtype              \n",
      "---  ------             --------------  -----              \n",
      " 0   key                9914 non-null   object             \n",
      " 1   pickup_datetime    9914 non-null   datetime64[ns, UTC]\n",
      " 2   pickup_longitude   9914 non-null   float64            \n",
      " 3   pickup_latitude    9914 non-null   float64            \n",
      " 4   dropoff_longitude  9914 non-null   float64            \n",
      " 5   dropoff_latitude   9914 non-null   float64            \n",
      " 6   passenger_count    9914 non-null   int64              \n",
      "dtypes: datetime64[ns, UTC](1), float64(4), int64(1), object(1)\n",
      "memory usage: 542.3+ KB\n"
     ]
    }
   ],
   "source": [
    "#info on the test set\n",
    "test_df.info()"
   ]
  },
  {
   "cell_type": "code",
   "execution_count": 10,
   "metadata": {
    "execution": {
     "iopub.execute_input": "2023-03-11T10:11:51.828033Z",
     "iopub.status.busy": "2023-03-11T10:11:51.827508Z",
     "iopub.status.idle": "2023-03-11T10:11:51.861478Z",
     "shell.execute_reply": "2023-03-11T10:11:51.860223Z",
     "shell.execute_reply.started": "2023-03-11T10:11:51.827983Z"
    }
   },
   "outputs": [
    {
     "data": {
      "text/html": [
       "<div>\n",
       "<style scoped>\n",
       "    .dataframe tbody tr th:only-of-type {\n",
       "        vertical-align: middle;\n",
       "    }\n",
       "\n",
       "    .dataframe tbody tr th {\n",
       "        vertical-align: top;\n",
       "    }\n",
       "\n",
       "    .dataframe thead th {\n",
       "        text-align: right;\n",
       "    }\n",
       "</style>\n",
       "<table border=\"1\" class=\"dataframe\">\n",
       "  <thead>\n",
       "    <tr style=\"text-align: right;\">\n",
       "      <th></th>\n",
       "      <th>pickup_longitude</th>\n",
       "      <th>pickup_latitude</th>\n",
       "      <th>dropoff_longitude</th>\n",
       "      <th>dropoff_latitude</th>\n",
       "      <th>passenger_count</th>\n",
       "    </tr>\n",
       "  </thead>\n",
       "  <tbody>\n",
       "    <tr>\n",
       "      <th>count</th>\n",
       "      <td>9914.000000</td>\n",
       "      <td>9914.000000</td>\n",
       "      <td>9914.000000</td>\n",
       "      <td>9914.000000</td>\n",
       "      <td>9914.000000</td>\n",
       "    </tr>\n",
       "    <tr>\n",
       "      <th>mean</th>\n",
       "      <td>-73.974722</td>\n",
       "      <td>40.751041</td>\n",
       "      <td>-73.973657</td>\n",
       "      <td>40.751743</td>\n",
       "      <td>1.671273</td>\n",
       "    </tr>\n",
       "    <tr>\n",
       "      <th>std</th>\n",
       "      <td>0.042774</td>\n",
       "      <td>0.033541</td>\n",
       "      <td>0.039072</td>\n",
       "      <td>0.035435</td>\n",
       "      <td>1.278747</td>\n",
       "    </tr>\n",
       "    <tr>\n",
       "      <th>min</th>\n",
       "      <td>-74.252193</td>\n",
       "      <td>40.573143</td>\n",
       "      <td>-74.263242</td>\n",
       "      <td>40.568973</td>\n",
       "      <td>1.000000</td>\n",
       "    </tr>\n",
       "    <tr>\n",
       "      <th>25%</th>\n",
       "      <td>-73.992501</td>\n",
       "      <td>40.736125</td>\n",
       "      <td>-73.991247</td>\n",
       "      <td>40.735254</td>\n",
       "      <td>1.000000</td>\n",
       "    </tr>\n",
       "    <tr>\n",
       "      <th>50%</th>\n",
       "      <td>-73.982326</td>\n",
       "      <td>40.753051</td>\n",
       "      <td>-73.980015</td>\n",
       "      <td>40.754065</td>\n",
       "      <td>1.000000</td>\n",
       "    </tr>\n",
       "    <tr>\n",
       "      <th>75%</th>\n",
       "      <td>-73.968013</td>\n",
       "      <td>40.767113</td>\n",
       "      <td>-73.964059</td>\n",
       "      <td>40.768757</td>\n",
       "      <td>2.000000</td>\n",
       "    </tr>\n",
       "    <tr>\n",
       "      <th>max</th>\n",
       "      <td>-72.986532</td>\n",
       "      <td>41.709555</td>\n",
       "      <td>-72.990963</td>\n",
       "      <td>41.696683</td>\n",
       "      <td>6.000000</td>\n",
       "    </tr>\n",
       "  </tbody>\n",
       "</table>\n",
       "</div>"
      ],
      "text/plain": [
       "       pickup_longitude  pickup_latitude  dropoff_longitude  dropoff_latitude  \\\n",
       "count       9914.000000      9914.000000        9914.000000       9914.000000   \n",
       "mean         -73.974722        40.751041         -73.973657         40.751743   \n",
       "std            0.042774         0.033541           0.039072          0.035435   \n",
       "min          -74.252193        40.573143         -74.263242         40.568973   \n",
       "25%          -73.992501        40.736125         -73.991247         40.735254   \n",
       "50%          -73.982326        40.753051         -73.980015         40.754065   \n",
       "75%          -73.968013        40.767113         -73.964059         40.768757   \n",
       "max          -72.986532        41.709555         -72.990963         41.696683   \n",
       "\n",
       "       passenger_count  \n",
       "count      9914.000000  \n",
       "mean          1.671273  \n",
       "std           1.278747  \n",
       "min           1.000000  \n",
       "25%           1.000000  \n",
       "50%           1.000000  \n",
       "75%           2.000000  \n",
       "max           6.000000  "
      ]
     },
     "execution_count": 10,
     "metadata": {},
     "output_type": "execute_result"
    }
   ],
   "source": [
    "#Statistical summary of the test data\n",
    "test_df.describe()"
   ]
  },
  {
   "cell_type": "code",
   "execution_count": 11,
   "metadata": {
    "execution": {
     "iopub.execute_input": "2023-03-11T10:11:51.867437Z",
     "iopub.status.busy": "2023-03-11T10:11:51.866693Z",
     "iopub.status.idle": "2023-03-11T10:11:51.878073Z",
     "shell.execute_reply": "2023-03-11T10:11:51.876504Z",
     "shell.execute_reply.started": "2023-03-11T10:11:51.867393Z"
    }
   },
   "outputs": [
    {
     "data": {
      "text/plain": [
       "(Timestamp('2009-01-01 11:04:24+0000', tz='UTC'),\n",
       " Timestamp('2015-06-30 20:03:50+0000', tz='UTC'))"
      ]
     },
     "execution_count": 11,
     "metadata": {},
     "output_type": "execute_result"
    }
   ],
   "source": [
    "#Checking the min and highest date in the test df\n",
    "test_df['pickup_datetime'].min(), test_df['pickup_datetime'].max()"
   ]
  },
  {
   "cell_type": "markdown",
   "metadata": {},
   "source": [
    "#### Observations\n",
    "* 550k plus rows\n",
    "* No missing data in the df\n",
    "* Key column is not neeeded\n",
    "* There are negative values in the longitude and latitude columns which is unsual\n",
    "* The passener count column has some unusally large numbers\n",
    "* Data takes 30+ mb in storage\n",
    "* Data from both the train and test starts from 2009 and ends in 2015\n",
    "#### We will need to deal with outliers before training the model"
   ]
  },
  {
   "cell_type": "markdown",
   "metadata": {},
   "source": [
    "## Preparing the data for Training\n"
   ]
  },
  {
   "cell_type": "code",
   "execution_count": 12,
   "metadata": {
    "execution": {
     "iopub.execute_input": "2023-03-11T10:11:51.880894Z",
     "iopub.status.busy": "2023-03-11T10:11:51.880108Z",
     "iopub.status.idle": "2023-03-11T10:11:51.888589Z",
     "shell.execute_reply": "2023-03-11T10:11:51.887517Z",
     "shell.execute_reply.started": "2023-03-11T10:11:51.880854Z"
    }
   },
   "outputs": [
    {
     "data": {
      "text/plain": [
       "Index(['key', 'fare_amount', 'pickup_datetime', 'pickup_longitude',\n",
       "       'pickup_latitude', 'dropoff_longitude', 'dropoff_latitude',\n",
       "       'passenger_count'],\n",
       "      dtype='object')"
      ]
     },
     "execution_count": 12,
     "metadata": {},
     "output_type": "execute_result"
    }
   ],
   "source": [
    "#Viewing the colums in the df\n",
    "df.columns"
   ]
  },
  {
   "cell_type": "code",
   "execution_count": 25,
   "metadata": {
    "execution": {
     "iopub.execute_input": "2023-03-11T10:14:55.778988Z",
     "iopub.status.busy": "2023-03-11T10:14:55.778530Z",
     "iopub.status.idle": "2023-03-11T10:14:55.858227Z",
     "shell.execute_reply": "2023-03-11T10:14:55.856714Z",
     "shell.execute_reply.started": "2023-03-11T10:14:55.778952Z"
    }
   },
   "outputs": [],
   "source": [
    "#Dropping missng Values\n",
    "df = df.dropna()"
   ]
  },
  {
   "cell_type": "code",
   "execution_count": 26,
   "metadata": {
    "execution": {
     "iopub.execute_input": "2023-03-11T10:15:13.313412Z",
     "iopub.status.busy": "2023-03-11T10:15:13.312986Z",
     "iopub.status.idle": "2023-03-11T10:15:13.362563Z",
     "shell.execute_reply": "2023-03-11T10:15:13.361171Z",
     "shell.execute_reply.started": "2023-03-11T10:15:13.313369Z"
    }
   },
   "outputs": [
    {
     "name": "stdout",
     "output_type": "stream",
     "text": [
      "<class 'pandas.core.frame.DataFrame'>\n",
      "Int64Index: 553344 entries, 0 to 553344\n",
      "Data columns (total 8 columns):\n",
      " #   Column             Non-Null Count   Dtype              \n",
      "---  ------             --------------   -----              \n",
      " 0   key                553344 non-null  object             \n",
      " 1   fare_amount        553344 non-null  float64            \n",
      " 2   pickup_datetime    553344 non-null  datetime64[ns, UTC]\n",
      " 3   pickup_longitude   553344 non-null  float64            \n",
      " 4   pickup_latitude    553344 non-null  float64            \n",
      " 5   dropoff_longitude  553344 non-null  float64            \n",
      " 6   dropoff_latitude   553344 non-null  float64            \n",
      " 7   passenger_count    553344 non-null  int64              \n",
      "dtypes: datetime64[ns, UTC](1), float64(5), int64(1), object(1)\n",
      "memory usage: 38.0+ MB\n"
     ]
    }
   ],
   "source": [
    "df.info()"
   ]
  },
  {
   "cell_type": "code",
   "execution_count": 27,
   "metadata": {
    "execution": {
     "iopub.execute_input": "2023-03-11T10:15:13.365387Z",
     "iopub.status.busy": "2023-03-11T10:15:13.364513Z",
     "iopub.status.idle": "2023-03-11T10:15:13.378563Z",
     "shell.execute_reply": "2023-03-11T10:15:13.377279Z",
     "shell.execute_reply.started": "2023-03-11T10:15:13.365337Z"
    }
   },
   "outputs": [],
   "source": [
    "#Splitting the training data into features and labels\n",
    "X = df.drop(['key', 'fare_amount','pickup_datetime'], axis = 1)\n",
    "y = df['fare_amount']"
   ]
  },
  {
   "cell_type": "code",
   "execution_count": 14,
   "metadata": {
    "execution": {
     "iopub.execute_input": "2023-03-11T10:11:51.913244Z",
     "iopub.status.busy": "2023-03-11T10:11:51.912061Z",
     "iopub.status.idle": "2023-03-11T10:11:51.922847Z",
     "shell.execute_reply": "2023-03-11T10:11:51.921214Z",
     "shell.execute_reply.started": "2023-03-11T10:11:51.913177Z"
    }
   },
   "outputs": [],
   "source": [
    "#Subsetting the test data\n",
    "test = test_df.drop(['key','pickup_datetime'], axis = 1)"
   ]
  },
  {
   "cell_type": "code",
   "execution_count": 29,
   "metadata": {
    "execution": {
     "iopub.execute_input": "2023-03-11T10:15:33.483558Z",
     "iopub.status.busy": "2023-03-11T10:15:33.483101Z",
     "iopub.status.idle": "2023-03-11T10:15:33.558284Z",
     "shell.execute_reply": "2023-03-11T10:15:33.557086Z",
     "shell.execute_reply.started": "2023-03-11T10:15:33.483520Z"
    }
   },
   "outputs": [],
   "source": [
    "#Splitting the data into training and validation set\n",
    "X_train, X_val, y_train, y_val = train_test_split(X,y,test_size = 0.2, random_state = 92)"
   ]
  },
  {
   "cell_type": "code",
   "execution_count": 30,
   "metadata": {
    "execution": {
     "iopub.execute_input": "2023-03-11T10:15:33.560579Z",
     "iopub.status.busy": "2023-03-11T10:15:33.560118Z",
     "iopub.status.idle": "2023-03-11T10:15:33.567418Z",
     "shell.execute_reply": "2023-03-11T10:15:33.566020Z",
     "shell.execute_reply.started": "2023-03-11T10:15:33.560545Z"
    }
   },
   "outputs": [
    {
     "name": "stdout",
     "output_type": "stream",
     "text": [
      "(442675, 5) (110669, 5)\n",
      "(442675,) (110669,)\n"
     ]
    }
   ],
   "source": [
    "#Validating the split\n",
    "print(X_train.shape, X_val.shape)\n",
    "print(y_train.shape, y_val.shape)"
   ]
  },
  {
   "cell_type": "markdown",
   "metadata": {},
   "source": [
    "## Training a Baseline Model"
   ]
  },
  {
   "cell_type": "code",
   "execution_count": 31,
   "metadata": {
    "execution": {
     "iopub.execute_input": "2023-03-11T10:15:33.642029Z",
     "iopub.status.busy": "2023-03-11T10:15:33.641564Z",
     "iopub.status.idle": "2023-03-11T10:15:33.649726Z",
     "shell.execute_reply": "2023-03-11T10:15:33.648237Z",
     "shell.execute_reply.started": "2023-03-11T10:15:33.641990Z"
    }
   },
   "outputs": [],
   "source": [
    "#Mean Regressor \n",
    "class MeanRegressor:\n",
    "    def fit(self, inputs, targets):\n",
    "        self.mean = targets.mean()\n",
    "        \n",
    "    def predict(self, inputs):\n",
    "        return np.full(inputs.shape[0], self.mean)"
   ]
  },
  {
   "cell_type": "code",
   "execution_count": 48,
   "metadata": {
    "execution": {
     "iopub.execute_input": "2023-03-11T10:39:54.434688Z",
     "iopub.status.busy": "2023-03-11T10:39:54.434259Z",
     "iopub.status.idle": "2023-03-11T10:39:54.445517Z",
     "shell.execute_reply": "2023-03-11T10:39:54.444202Z",
     "shell.execute_reply.started": "2023-03-11T10:39:54.434644Z"
    }
   },
   "outputs": [],
   "source": [
    "#Instantiating the model\n",
    "mean_model = MeanRegressor()\n",
    "\n",
    "#Fitting the model to the input data\n",
    "mean_model.fit(X_train, y_train)\n",
    "\n",
    "#Predicting on the train data\n",
    "train_pred = mean_model.predict(X_train)\n",
    "\n",
    "#Predicting on the val data\n",
    "val_pred = mean_model.predict(X_val)\n"
   ]
  },
  {
   "cell_type": "markdown",
   "metadata": {},
   "source": [
    "## Evaluating the Baseline Model"
   ]
  },
  {
   "cell_type": "code",
   "execution_count": 33,
   "metadata": {
    "execution": {
     "iopub.execute_input": "2023-03-11T10:15:33.798698Z",
     "iopub.status.busy": "2023-03-11T10:15:33.797954Z",
     "iopub.status.idle": "2023-03-11T10:15:33.804245Z",
     "shell.execute_reply": "2023-03-11T10:15:33.802899Z",
     "shell.execute_reply.started": "2023-03-11T10:15:33.798659Z"
    }
   },
   "outputs": [],
   "source": [
    "#Defining the evaluation function\n",
    "\n",
    "def rmse(targets, pred):\n",
    "    return mean_squared_error(targets, pred, squared = False)\n"
   ]
  },
  {
   "cell_type": "code",
   "execution_count": 49,
   "metadata": {
    "execution": {
     "iopub.execute_input": "2023-03-11T10:40:21.379974Z",
     "iopub.status.busy": "2023-03-11T10:40:21.379512Z",
     "iopub.status.idle": "2023-03-11T10:40:21.395280Z",
     "shell.execute_reply": "2023-03-11T10:40:21.393653Z",
     "shell.execute_reply.started": "2023-03-11T10:40:21.379907Z"
    }
   },
   "outputs": [
    {
     "name": "stdout",
     "output_type": "stream",
     "text": [
      "The Root mean squared error of the baseline model on the train data is: 9.826516523872696\n",
      "The Root mean squared erorr of the baseline model on the val data is: 9.861092257690506\n"
     ]
    }
   ],
   "source": [
    "#Train rmse\n",
    "train_rmse = rmse(y_train, train_pred)\n",
    "\n",
    "\n",
    "#Validation rmse\n",
    "val_rmse = rmse(y_val, val_pred)\n",
    "\n",
    "print(f\"The Root mean squared error of the baseline model on the train data is: {train_rmse}\")\n",
    "print(f\"The Root mean squared erorr of the baseline model on the val data is: {val_rmse}\")"
   ]
  },
  {
   "cell_type": "markdown",
   "metadata": {},
   "source": [
    "### The Hard coded model is off by ~9.8, this is not a good result"
   ]
  },
  {
   "cell_type": "markdown",
   "metadata": {},
   "source": [
    "## Training a Linear Regression Model"
   ]
  },
  {
   "cell_type": "code",
   "execution_count": 35,
   "metadata": {
    "execution": {
     "iopub.execute_input": "2023-03-11T10:15:33.820275Z",
     "iopub.status.busy": "2023-03-11T10:15:33.819506Z",
     "iopub.status.idle": "2023-03-11T10:15:33.826738Z",
     "shell.execute_reply": "2023-03-11T10:15:33.825350Z",
     "shell.execute_reply.started": "2023-03-11T10:15:33.820234Z"
    }
   },
   "outputs": [],
   "source": [
    "#Instantiating the model\n",
    "l_reg = LinearRegression()"
   ]
  },
  {
   "cell_type": "code",
   "execution_count": 36,
   "metadata": {
    "execution": {
     "iopub.execute_input": "2023-03-11T10:15:33.829692Z",
     "iopub.status.busy": "2023-03-11T10:15:33.829326Z",
     "iopub.status.idle": "2023-03-11T10:15:33.935653Z",
     "shell.execute_reply": "2023-03-11T10:15:33.933609Z",
     "shell.execute_reply.started": "2023-03-11T10:15:33.829660Z"
    }
   },
   "outputs": [],
   "source": [
    "#Fitting the model to the train data\n",
    "l_reg.fit(X_train,y_train)\n",
    "\n",
    "#Making predictions on the train data\n",
    "train_pred = l_reg.predict(X_train)\n",
    "\n",
    "#Making predictions on the val data\n",
    "val_pred = l_reg.predict(X_val)"
   ]
  },
  {
   "cell_type": "markdown",
   "metadata": {},
   "source": [
    "## Evaluating the Linear Regression Model"
   ]
  },
  {
   "cell_type": "code",
   "execution_count": 37,
   "metadata": {
    "execution": {
     "iopub.execute_input": "2023-03-11T10:15:33.966591Z",
     "iopub.status.busy": "2023-03-11T10:15:33.965172Z",
     "iopub.status.idle": "2023-03-11T10:15:33.988712Z",
     "shell.execute_reply": "2023-03-11T10:15:33.986705Z",
     "shell.execute_reply.started": "2023-03-11T10:15:33.966502Z"
    }
   },
   "outputs": [
    {
     "name": "stdout",
     "output_type": "stream",
     "text": [
      "The RMSE of the model on the train data is: 9.824843578269924\n",
      "The RMSE of the model on the val data is: 9.858982370635724\n"
     ]
    }
   ],
   "source": [
    "#RMSE on the train prediction\n",
    "train_rmse = rmse(y_train, train_pred)\n",
    "\n",
    "#RMSE on the val prediction\n",
    "val_rmse = rmse(y_val, val_pred)\n",
    "\n",
    "print(f\"The RMSE of the model on the train data is: {train_rmse}\")\n",
    "print(f\"The RMSE of the model on the val data is: {val_rmse}\")"
   ]
  },
  {
   "cell_type": "markdown",
   "metadata": {},
   "source": [
    "### The RMSE of the Linear Regression model is not better than what we achieved with our average model"
   ]
  },
  {
   "cell_type": "markdown",
   "metadata": {},
   "source": [
    "## Predictions for Initial submission to Kaggle"
   ]
  },
  {
   "cell_type": "code",
   "execution_count": 38,
   "metadata": {
    "execution": {
     "iopub.execute_input": "2023-03-11T10:15:33.994513Z",
     "iopub.status.busy": "2023-03-11T10:15:33.992424Z",
     "iopub.status.idle": "2023-03-11T10:15:34.013105Z",
     "shell.execute_reply": "2023-03-11T10:15:34.010615Z",
     "shell.execute_reply.started": "2023-03-11T10:15:33.994425Z"
    }
   },
   "outputs": [],
   "source": [
    "#Making predictions on the test data\n",
    "test_pred = l_reg.predict(test)"
   ]
  },
  {
   "cell_type": "code",
   "execution_count": 39,
   "metadata": {
    "execution": {
     "iopub.execute_input": "2023-03-11T10:15:34.016203Z",
     "iopub.status.busy": "2023-03-11T10:15:34.015320Z",
     "iopub.status.idle": "2023-03-11T10:15:34.079875Z",
     "shell.execute_reply": "2023-03-11T10:15:34.077714Z",
     "shell.execute_reply.started": "2023-03-11T10:15:34.016153Z"
    }
   },
   "outputs": [
    {
     "data": {
      "text/html": [
       "<div>\n",
       "<style scoped>\n",
       "    .dataframe tbody tr th:only-of-type {\n",
       "        vertical-align: middle;\n",
       "    }\n",
       "\n",
       "    .dataframe tbody tr th {\n",
       "        vertical-align: top;\n",
       "    }\n",
       "\n",
       "    .dataframe thead th {\n",
       "        text-align: right;\n",
       "    }\n",
       "</style>\n",
       "<table border=\"1\" class=\"dataframe\">\n",
       "  <thead>\n",
       "    <tr style=\"text-align: right;\">\n",
       "      <th></th>\n",
       "      <th>key</th>\n",
       "      <th>fare_amount</th>\n",
       "    </tr>\n",
       "  </thead>\n",
       "  <tbody>\n",
       "    <tr>\n",
       "      <th>0</th>\n",
       "      <td>2015-01-27 13:08:24.0000002</td>\n",
       "      <td>11.35</td>\n",
       "    </tr>\n",
       "    <tr>\n",
       "      <th>1</th>\n",
       "      <td>2015-01-27 13:08:24.0000003</td>\n",
       "      <td>11.35</td>\n",
       "    </tr>\n",
       "    <tr>\n",
       "      <th>2</th>\n",
       "      <td>2011-10-08 11:53:44.0000002</td>\n",
       "      <td>11.35</td>\n",
       "    </tr>\n",
       "    <tr>\n",
       "      <th>3</th>\n",
       "      <td>2012-12-01 21:12:12.0000002</td>\n",
       "      <td>11.35</td>\n",
       "    </tr>\n",
       "    <tr>\n",
       "      <th>4</th>\n",
       "      <td>2012-12-01 21:12:12.0000003</td>\n",
       "      <td>11.35</td>\n",
       "    </tr>\n",
       "    <tr>\n",
       "      <th>...</th>\n",
       "      <td>...</td>\n",
       "      <td>...</td>\n",
       "    </tr>\n",
       "    <tr>\n",
       "      <th>9909</th>\n",
       "      <td>2015-05-10 12:37:51.0000002</td>\n",
       "      <td>11.35</td>\n",
       "    </tr>\n",
       "    <tr>\n",
       "      <th>9910</th>\n",
       "      <td>2015-01-12 17:05:51.0000001</td>\n",
       "      <td>11.35</td>\n",
       "    </tr>\n",
       "    <tr>\n",
       "      <th>9911</th>\n",
       "      <td>2015-04-19 20:44:15.0000001</td>\n",
       "      <td>11.35</td>\n",
       "    </tr>\n",
       "    <tr>\n",
       "      <th>9912</th>\n",
       "      <td>2015-01-31 01:05:19.0000005</td>\n",
       "      <td>11.35</td>\n",
       "    </tr>\n",
       "    <tr>\n",
       "      <th>9913</th>\n",
       "      <td>2015-01-18 14:06:23.0000006</td>\n",
       "      <td>11.35</td>\n",
       "    </tr>\n",
       "  </tbody>\n",
       "</table>\n",
       "<p>9914 rows × 2 columns</p>\n",
       "</div>"
      ],
      "text/plain": [
       "                              key  fare_amount\n",
       "0     2015-01-27 13:08:24.0000002        11.35\n",
       "1     2015-01-27 13:08:24.0000003        11.35\n",
       "2     2011-10-08 11:53:44.0000002        11.35\n",
       "3     2012-12-01 21:12:12.0000002        11.35\n",
       "4     2012-12-01 21:12:12.0000003        11.35\n",
       "...                           ...          ...\n",
       "9909  2015-05-10 12:37:51.0000002        11.35\n",
       "9910  2015-01-12 17:05:51.0000001        11.35\n",
       "9911  2015-04-19 20:44:15.0000001        11.35\n",
       "9912  2015-01-31 01:05:19.0000005        11.35\n",
       "9913  2015-01-18 14:06:23.0000006        11.35\n",
       "\n",
       "[9914 rows x 2 columns]"
      ]
     },
     "execution_count": 39,
     "metadata": {},
     "output_type": "execute_result"
    }
   ],
   "source": [
    "#Preparing the submission file\n",
    "sub_dir = '/kaggle/input/new-york-city-taxi-fare-prediction/sample_submission.csv'\n",
    "submission = pd.read_csv(sub_dir)\n",
    "\n",
    "#Viewing the file\n",
    "submission"
   ]
  },
  {
   "cell_type": "code",
   "execution_count": 40,
   "metadata": {
    "execution": {
     "iopub.execute_input": "2023-03-11T10:15:34.085956Z",
     "iopub.status.busy": "2023-03-11T10:15:34.084656Z",
     "iopub.status.idle": "2023-03-11T10:15:34.095331Z",
     "shell.execute_reply": "2023-03-11T10:15:34.093396Z",
     "shell.execute_reply.started": "2023-03-11T10:15:34.085855Z"
    }
   },
   "outputs": [],
   "source": [
    "#Subtituting the values\n",
    "submission['fare_amount'] = test_pred"
   ]
  },
  {
   "cell_type": "code",
   "execution_count": 41,
   "metadata": {
    "execution": {
     "iopub.execute_input": "2023-03-11T10:15:34.099215Z",
     "iopub.status.busy": "2023-03-11T10:15:34.098054Z",
     "iopub.status.idle": "2023-03-11T10:15:34.154722Z",
     "shell.execute_reply": "2023-03-11T10:15:34.153640Z",
     "shell.execute_reply.started": "2023-03-11T10:15:34.099142Z"
    }
   },
   "outputs": [],
   "source": [
    "#Saving the file to csv\n",
    "submission.to_csv('1st_submission.csv', index = None)"
   ]
  },
  {
   "cell_type": "code",
   "execution_count": 44,
   "metadata": {
    "execution": {
     "iopub.execute_input": "2023-03-11T10:19:29.286432Z",
     "iopub.status.busy": "2023-03-11T10:19:29.286004Z",
     "iopub.status.idle": "2023-03-11T10:19:29.293439Z",
     "shell.execute_reply": "2023-03-11T10:19:29.292009Z",
     "shell.execute_reply.started": "2023-03-11T10:19:29.286396Z"
    }
   },
   "outputs": [],
   "source": [
    "#Defining a function for predicting and saving the submission file\n",
    "def make_predictions_and_submit(model, test_input, file_name):\n",
    "    test_pred = model.predict(test_input)\n",
    "    sub_df = pd.read_csv(sub_dir)\n",
    "    sub_df['fare_amount'] = test_pred\n",
    "    sub_df.to_csv(file_name, index = None)\n",
    "    return sub_df"
   ]
  },
  {
   "cell_type": "markdown",
   "metadata": {},
   "source": [
    "## Feature Engineering"
   ]
  },
  {
   "cell_type": "code",
   "execution_count": 51,
   "metadata": {
    "execution": {
     "iopub.execute_input": "2023-03-11T10:54:20.927493Z",
     "iopub.status.busy": "2023-03-11T10:54:20.926585Z",
     "iopub.status.idle": "2023-03-11T10:54:20.935160Z",
     "shell.execute_reply": "2023-03-11T10:54:20.933474Z",
     "shell.execute_reply.started": "2023-03-11T10:54:20.927447Z"
    }
   },
   "outputs": [],
   "source": [
    "#Parsing the date column\n",
    "def parse_date(df, col):\n",
    "    df[col + '_year'] = df[col].dt.year\n",
    "    df[col + '_month'] = df[col].dt.month\n",
    "    df[col + '_day'] = df[col].dt.day\n",
    "    df[col + '_weekday'] = df[col].dt.weekday\n",
    "    df[col + '_hour'] = df[col].dt.hour"
   ]
  },
  {
   "cell_type": "code",
   "execution_count": 53,
   "metadata": {
    "execution": {
     "iopub.execute_input": "2023-03-11T10:55:15.858989Z",
     "iopub.status.busy": "2023-03-11T10:55:15.858514Z",
     "iopub.status.idle": "2023-03-11T10:55:16.203899Z",
     "shell.execute_reply": "2023-03-11T10:55:16.202540Z",
     "shell.execute_reply.started": "2023-03-11T10:55:15.858948Z"
    }
   },
   "outputs": [],
   "source": [
    "#Parsing the date column for the training data\n",
    "parse_date(df, 'pickup_datetime')"
   ]
  },
  {
   "cell_type": "code",
   "execution_count": 55,
   "metadata": {
    "execution": {
     "iopub.execute_input": "2023-03-11T10:57:28.056780Z",
     "iopub.status.busy": "2023-03-11T10:57:28.055810Z",
     "iopub.status.idle": "2023-03-11T10:57:28.070831Z",
     "shell.execute_reply": "2023-03-11T10:57:28.069303Z",
     "shell.execute_reply.started": "2023-03-11T10:57:28.056739Z"
    }
   },
   "outputs": [],
   "source": [
    "#Parsing the date column for the test dat\n",
    "parse_date(test_df, 'pickup_datetime')"
   ]
  },
  {
   "cell_type": "code",
   "execution_count": 58,
   "metadata": {
    "execution": {
     "iopub.execute_input": "2023-03-11T11:24:35.172863Z",
     "iopub.status.busy": "2023-03-11T11:24:35.172442Z",
     "iopub.status.idle": "2023-03-11T11:24:35.200173Z",
     "shell.execute_reply": "2023-03-11T11:24:35.198806Z",
     "shell.execute_reply.started": "2023-03-11T11:24:35.172825Z"
    }
   },
   "outputs": [],
   "source": [
    "train_df = df.copy()"
   ]
  },
  {
   "cell_type": "code",
   "execution_count": 59,
   "metadata": {
    "execution": {
     "iopub.execute_input": "2023-03-11T11:24:35.203111Z",
     "iopub.status.busy": "2023-03-11T11:24:35.202545Z",
     "iopub.status.idle": "2023-03-11T11:24:35.231469Z",
     "shell.execute_reply": "2023-03-11T11:24:35.230023Z",
     "shell.execute_reply.started": "2023-03-11T11:24:35.203058Z"
    }
   },
   "outputs": [
    {
     "data": {
      "text/html": [
       "<div>\n",
       "<style scoped>\n",
       "    .dataframe tbody tr th:only-of-type {\n",
       "        vertical-align: middle;\n",
       "    }\n",
       "\n",
       "    .dataframe tbody tr th {\n",
       "        vertical-align: top;\n",
       "    }\n",
       "\n",
       "    .dataframe thead th {\n",
       "        text-align: right;\n",
       "    }\n",
       "</style>\n",
       "<table border=\"1\" class=\"dataframe\">\n",
       "  <thead>\n",
       "    <tr style=\"text-align: right;\">\n",
       "      <th></th>\n",
       "      <th>key</th>\n",
       "      <th>fare_amount</th>\n",
       "      <th>pickup_datetime</th>\n",
       "      <th>pickup_longitude</th>\n",
       "      <th>pickup_latitude</th>\n",
       "      <th>dropoff_longitude</th>\n",
       "      <th>dropoff_latitude</th>\n",
       "      <th>passenger_count</th>\n",
       "      <th>pickup_datetime_year</th>\n",
       "      <th>pickup_datetime_month</th>\n",
       "      <th>pickup_datetime_day</th>\n",
       "      <th>pickup_datetime_weekday</th>\n",
       "      <th>pickup_datetime_hour</th>\n",
       "    </tr>\n",
       "  </thead>\n",
       "  <tbody>\n",
       "    <tr>\n",
       "      <th>0</th>\n",
       "      <td>2009-03-02 20:42:49.0000003</td>\n",
       "      <td>9.8</td>\n",
       "      <td>2009-03-02 20:42:49+00:00</td>\n",
       "      <td>-73.972673</td>\n",
       "      <td>40.759186</td>\n",
       "      <td>-73.969897</td>\n",
       "      <td>40.791367</td>\n",
       "      <td>1</td>\n",
       "      <td>2009</td>\n",
       "      <td>3</td>\n",
       "      <td>2</td>\n",
       "      <td>0</td>\n",
       "      <td>20</td>\n",
       "    </tr>\n",
       "    <tr>\n",
       "      <th>1</th>\n",
       "      <td>2015-04-12 10:19:05.0000001</td>\n",
       "      <td>11.5</td>\n",
       "      <td>2015-04-12 10:19:05+00:00</td>\n",
       "      <td>-73.979279</td>\n",
       "      <td>40.723438</td>\n",
       "      <td>-74.004608</td>\n",
       "      <td>40.746948</td>\n",
       "      <td>6</td>\n",
       "      <td>2015</td>\n",
       "      <td>4</td>\n",
       "      <td>12</td>\n",
       "      <td>6</td>\n",
       "      <td>10</td>\n",
       "    </tr>\n",
       "    <tr>\n",
       "      <th>2</th>\n",
       "      <td>2012-11-06 11:33:14.0000004</td>\n",
       "      <td>9.5</td>\n",
       "      <td>2012-11-06 11:33:14+00:00</td>\n",
       "      <td>-73.972195</td>\n",
       "      <td>40.765883</td>\n",
       "      <td>-73.967942</td>\n",
       "      <td>40.761951</td>\n",
       "      <td>1</td>\n",
       "      <td>2012</td>\n",
       "      <td>11</td>\n",
       "      <td>6</td>\n",
       "      <td>1</td>\n",
       "      <td>11</td>\n",
       "    </tr>\n",
       "    <tr>\n",
       "      <th>3</th>\n",
       "      <td>2012-10-06 15:47:00.000000111</td>\n",
       "      <td>6.5</td>\n",
       "      <td>2012-10-06 15:47:00+00:00</td>\n",
       "      <td>-73.982130</td>\n",
       "      <td>40.774807</td>\n",
       "      <td>-73.973583</td>\n",
       "      <td>40.789645</td>\n",
       "      <td>5</td>\n",
       "      <td>2012</td>\n",
       "      <td>10</td>\n",
       "      <td>6</td>\n",
       "      <td>5</td>\n",
       "      <td>15</td>\n",
       "    </tr>\n",
       "    <tr>\n",
       "      <th>4</th>\n",
       "      <td>2015-05-31 07:33:18.0000002</td>\n",
       "      <td>16.5</td>\n",
       "      <td>2015-05-31 07:33:18+00:00</td>\n",
       "      <td>-73.996986</td>\n",
       "      <td>40.755428</td>\n",
       "      <td>-73.953194</td>\n",
       "      <td>40.802101</td>\n",
       "      <td>3</td>\n",
       "      <td>2015</td>\n",
       "      <td>5</td>\n",
       "      <td>31</td>\n",
       "      <td>6</td>\n",
       "      <td>7</td>\n",
       "    </tr>\n",
       "    <tr>\n",
       "      <th>...</th>\n",
       "      <td>...</td>\n",
       "      <td>...</td>\n",
       "      <td>...</td>\n",
       "      <td>...</td>\n",
       "      <td>...</td>\n",
       "      <td>...</td>\n",
       "      <td>...</td>\n",
       "      <td>...</td>\n",
       "      <td>...</td>\n",
       "      <td>...</td>\n",
       "      <td>...</td>\n",
       "      <td>...</td>\n",
       "      <td>...</td>\n",
       "    </tr>\n",
       "    <tr>\n",
       "      <th>553340</th>\n",
       "      <td>2010-08-14 21:00:17.0000002</td>\n",
       "      <td>10.9</td>\n",
       "      <td>2010-08-14 21:00:17+00:00</td>\n",
       "      <td>-73.966080</td>\n",
       "      <td>40.805193</td>\n",
       "      <td>-73.954060</td>\n",
       "      <td>40.781668</td>\n",
       "      <td>1</td>\n",
       "      <td>2010</td>\n",
       "      <td>8</td>\n",
       "      <td>14</td>\n",
       "      <td>5</td>\n",
       "      <td>21</td>\n",
       "    </tr>\n",
       "    <tr>\n",
       "      <th>553341</th>\n",
       "      <td>2012-04-20 09:31:00.00000039</td>\n",
       "      <td>5.7</td>\n",
       "      <td>2012-04-20 09:31:00+00:00</td>\n",
       "      <td>-73.977957</td>\n",
       "      <td>40.748792</td>\n",
       "      <td>-73.989132</td>\n",
       "      <td>40.742062</td>\n",
       "      <td>1</td>\n",
       "      <td>2012</td>\n",
       "      <td>4</td>\n",
       "      <td>20</td>\n",
       "      <td>4</td>\n",
       "      <td>9</td>\n",
       "    </tr>\n",
       "    <tr>\n",
       "      <th>553342</th>\n",
       "      <td>2013-01-21 14:17:17.0000002</td>\n",
       "      <td>7.5</td>\n",
       "      <td>2013-01-21 14:17:17+00:00</td>\n",
       "      <td>-73.999356</td>\n",
       "      <td>40.740943</td>\n",
       "      <td>-73.984007</td>\n",
       "      <td>40.746730</td>\n",
       "      <td>1</td>\n",
       "      <td>2013</td>\n",
       "      <td>1</td>\n",
       "      <td>21</td>\n",
       "      <td>0</td>\n",
       "      <td>14</td>\n",
       "    </tr>\n",
       "    <tr>\n",
       "      <th>553343</th>\n",
       "      <td>2013-02-20 08:25:20.0000001</td>\n",
       "      <td>11.5</td>\n",
       "      <td>2013-02-20 08:25:20+00:00</td>\n",
       "      <td>-73.983433</td>\n",
       "      <td>40.738376</td>\n",
       "      <td>-73.975043</td>\n",
       "      <td>40.760101</td>\n",
       "      <td>1</td>\n",
       "      <td>2013</td>\n",
       "      <td>2</td>\n",
       "      <td>20</td>\n",
       "      <td>2</td>\n",
       "      <td>8</td>\n",
       "    </tr>\n",
       "    <tr>\n",
       "      <th>553344</th>\n",
       "      <td>2010-11-18 07:08:58.0000002</td>\n",
       "      <td>5.7</td>\n",
       "      <td>2010-11-18 07:08:58+00:00</td>\n",
       "      <td>-73.997592</td>\n",
       "      <td>40.735889</td>\n",
       "      <td>-73.984557</td>\n",
       "      <td>40.754055</td>\n",
       "      <td>1</td>\n",
       "      <td>2010</td>\n",
       "      <td>11</td>\n",
       "      <td>18</td>\n",
       "      <td>3</td>\n",
       "      <td>7</td>\n",
       "    </tr>\n",
       "  </tbody>\n",
       "</table>\n",
       "<p>553344 rows × 13 columns</p>\n",
       "</div>"
      ],
      "text/plain": [
       "                                  key  fare_amount           pickup_datetime  \\\n",
       "0         2009-03-02 20:42:49.0000003          9.8 2009-03-02 20:42:49+00:00   \n",
       "1         2015-04-12 10:19:05.0000001         11.5 2015-04-12 10:19:05+00:00   \n",
       "2         2012-11-06 11:33:14.0000004          9.5 2012-11-06 11:33:14+00:00   \n",
       "3       2012-10-06 15:47:00.000000111          6.5 2012-10-06 15:47:00+00:00   \n",
       "4         2015-05-31 07:33:18.0000002         16.5 2015-05-31 07:33:18+00:00   \n",
       "...                               ...          ...                       ...   \n",
       "553340    2010-08-14 21:00:17.0000002         10.9 2010-08-14 21:00:17+00:00   \n",
       "553341   2012-04-20 09:31:00.00000039          5.7 2012-04-20 09:31:00+00:00   \n",
       "553342    2013-01-21 14:17:17.0000002          7.5 2013-01-21 14:17:17+00:00   \n",
       "553343    2013-02-20 08:25:20.0000001         11.5 2013-02-20 08:25:20+00:00   \n",
       "553344    2010-11-18 07:08:58.0000002          5.7 2010-11-18 07:08:58+00:00   \n",
       "\n",
       "        pickup_longitude  pickup_latitude  dropoff_longitude  \\\n",
       "0             -73.972673        40.759186         -73.969897   \n",
       "1             -73.979279        40.723438         -74.004608   \n",
       "2             -73.972195        40.765883         -73.967942   \n",
       "3             -73.982130        40.774807         -73.973583   \n",
       "4             -73.996986        40.755428         -73.953194   \n",
       "...                  ...              ...                ...   \n",
       "553340        -73.966080        40.805193         -73.954060   \n",
       "553341        -73.977957        40.748792         -73.989132   \n",
       "553342        -73.999356        40.740943         -73.984007   \n",
       "553343        -73.983433        40.738376         -73.975043   \n",
       "553344        -73.997592        40.735889         -73.984557   \n",
       "\n",
       "        dropoff_latitude  passenger_count  pickup_datetime_year  \\\n",
       "0              40.791367                1                  2009   \n",
       "1              40.746948                6                  2015   \n",
       "2              40.761951                1                  2012   \n",
       "3              40.789645                5                  2012   \n",
       "4              40.802101                3                  2015   \n",
       "...                  ...              ...                   ...   \n",
       "553340         40.781668                1                  2010   \n",
       "553341         40.742062                1                  2012   \n",
       "553342         40.746730                1                  2013   \n",
       "553343         40.760101                1                  2013   \n",
       "553344         40.754055                1                  2010   \n",
       "\n",
       "        pickup_datetime_month  pickup_datetime_day  pickup_datetime_weekday  \\\n",
       "0                           3                    2                        0   \n",
       "1                           4                   12                        6   \n",
       "2                          11                    6                        1   \n",
       "3                          10                    6                        5   \n",
       "4                           5                   31                        6   \n",
       "...                       ...                  ...                      ...   \n",
       "553340                      8                   14                        5   \n",
       "553341                      4                   20                        4   \n",
       "553342                      1                   21                        0   \n",
       "553343                      2                   20                        2   \n",
       "553344                     11                   18                        3   \n",
       "\n",
       "        pickup_datetime_hour  \n",
       "0                         20  \n",
       "1                         10  \n",
       "2                         11  \n",
       "3                         15  \n",
       "4                          7  \n",
       "...                      ...  \n",
       "553340                    21  \n",
       "553341                     9  \n",
       "553342                    14  \n",
       "553343                     8  \n",
       "553344                     7  \n",
       "\n",
       "[553344 rows x 13 columns]"
      ]
     },
     "execution_count": 59,
     "metadata": {},
     "output_type": "execute_result"
    }
   ],
   "source": [
    "train_df"
   ]
  },
  {
   "cell_type": "code",
   "execution_count": 57,
   "metadata": {
    "execution": {
     "iopub.execute_input": "2023-03-11T11:22:34.324750Z",
     "iopub.status.busy": "2023-03-11T11:22:34.324279Z",
     "iopub.status.idle": "2023-03-11T11:22:34.334400Z",
     "shell.execute_reply": "2023-03-11T11:22:34.332890Z",
     "shell.execute_reply.started": "2023-03-11T11:22:34.324713Z"
    }
   },
   "outputs": [],
   "source": [
    "#Creating a fucntion for calculating the distance between the pickup and drop off location\n",
    "from math import radians, cos, sin, asin, sqrt\n",
    "\n",
    "def haversine(lon1, lat1, lon2, lat2):\n",
    "    \"\"\"\n",
    "    Calculate the great circle distance in kilometers between two points \n",
    "    on the earth (specified in decimal degrees)\n",
    "    \"\"\"\n",
    "    # convert decimal degrees to radians \n",
    "    lon1, lat1, lon2, lat2 = map(radians, [lon1, lat1, lon2, lat2])\n",
    "\n",
    "    # haversine formula \n",
    "    dlon = lon2 - lon1 \n",
    "    dlat = lat2 - lat1 \n",
    "    a = sin(dlat/2)**2 + cos(lat1) * cos(lat2) * sin(dlon/2)**2\n",
    "    c = 2 * asin(sqrt(a)) \n",
    "    r = 6371 # Radius of earth in kilometers. Use 3956 for miles. Determines return value units.\n",
    "    return c * r"
   ]
  },
  {
   "cell_type": "code",
   "execution_count": 63,
   "metadata": {
    "execution": {
     "iopub.execute_input": "2023-03-11T11:32:08.677570Z",
     "iopub.status.busy": "2023-03-11T11:32:08.677075Z",
     "iopub.status.idle": "2023-03-11T11:32:08.686657Z",
     "shell.execute_reply": "2023-03-11T11:32:08.684938Z",
     "shell.execute_reply.started": "2023-03-11T11:32:08.677533Z"
    }
   },
   "outputs": [],
   "source": [
    "#Creating a fucntion for calculating the distance between the pickup and drop off location\n",
    "import numpy as np\n",
    "\n",
    "def haversine_np(lon1, lat1, lon2, lat2):\n",
    "    \"\"\"\n",
    "    Calculate the great circle distance between two points\n",
    "    on the earth (specified in decimal degrees)\n",
    "\n",
    "    All args must be of equal length.    \n",
    "\n",
    "    \"\"\"\n",
    "    lon1, lat1, lon2, lat2 = map(np.radians, [lon1, lat1, lon2, lat2])\n",
    "\n",
    "    dlon = lon2 - lon1\n",
    "    dlat = lat2 - lat1\n",
    "\n",
    "    a = np.sin(dlat/2.0)**2 + np.cos(lat1) * np.cos(lat2) * np.sin(dlon/2.0)**2\n",
    "\n",
    "    c = 2 * np.arcsin(np.sqrt(a))\n",
    "    km = 6367 * c\n",
    "    return km"
   ]
  },
  {
   "cell_type": "code",
   "execution_count": 60,
   "metadata": {
    "execution": {
     "iopub.execute_input": "2023-03-11T11:26:30.575321Z",
     "iopub.status.busy": "2023-03-11T11:26:30.574562Z",
     "iopub.status.idle": "2023-03-11T11:26:30.584630Z",
     "shell.execute_reply": "2023-03-11T11:26:30.583184Z",
     "shell.execute_reply.started": "2023-03-11T11:26:30.575268Z"
    }
   },
   "outputs": [
    {
     "data": {
      "text/plain": [
       "Index(['key', 'fare_amount', 'pickup_datetime', 'pickup_longitude',\n",
       "       'pickup_latitude', 'dropoff_longitude', 'dropoff_latitude',\n",
       "       'passenger_count', 'pickup_datetime_year', 'pickup_datetime_month',\n",
       "       'pickup_datetime_day', 'pickup_datetime_weekday',\n",
       "       'pickup_datetime_hour'],\n",
       "      dtype='object')"
      ]
     },
     "execution_count": 60,
     "metadata": {},
     "output_type": "execute_result"
    }
   ],
   "source": [
    "train_df.columns"
   ]
  },
  {
   "cell_type": "code",
   "execution_count": 64,
   "metadata": {
    "execution": {
     "iopub.execute_input": "2023-03-11T11:32:17.106251Z",
     "iopub.status.busy": "2023-03-11T11:32:17.104652Z",
     "iopub.status.idle": "2023-03-11T11:32:17.112719Z",
     "shell.execute_reply": "2023-03-11T11:32:17.111368Z",
     "shell.execute_reply.started": "2023-03-11T11:32:17.106194Z"
    }
   },
   "outputs": [],
   "source": [
    "#Creating a function to add the distance to the dataframe\n",
    "def add_distance(df):\n",
    "    df['trip_distance'] = haversine_np(df['pickup_longitude'],\n",
    "                                    df['pickup_latitude'],\n",
    "                                    df['dropoff_longitude'],\n",
    "                                    df['dropoff_latitude']\n",
    "                                   )"
   ]
  },
  {
   "cell_type": "code",
   "execution_count": 65,
   "metadata": {
    "execution": {
     "iopub.execute_input": "2023-03-11T11:32:22.262282Z",
     "iopub.status.busy": "2023-03-11T11:32:22.261814Z",
     "iopub.status.idle": "2023-03-11T11:32:22.326796Z",
     "shell.execute_reply": "2023-03-11T11:32:22.325419Z",
     "shell.execute_reply.started": "2023-03-11T11:32:22.262243Z"
    }
   },
   "outputs": [],
   "source": [
    "#Adding trip distance to the train data\n",
    "add_distance(train_df)\n",
    "#Adding trip distance to test data\n",
    "add_distance(test_df)"
   ]
  },
  {
   "cell_type": "code",
   "execution_count": 66,
   "metadata": {
    "execution": {
     "iopub.execute_input": "2023-03-11T11:32:44.360874Z",
     "iopub.status.busy": "2023-03-11T11:32:44.360380Z",
     "iopub.status.idle": "2023-03-11T11:32:44.391977Z",
     "shell.execute_reply": "2023-03-11T11:32:44.390697Z",
     "shell.execute_reply.started": "2023-03-11T11:32:44.360831Z"
    }
   },
   "outputs": [
    {
     "data": {
      "text/html": [
       "<div>\n",
       "<style scoped>\n",
       "    .dataframe tbody tr th:only-of-type {\n",
       "        vertical-align: middle;\n",
       "    }\n",
       "\n",
       "    .dataframe tbody tr th {\n",
       "        vertical-align: top;\n",
       "    }\n",
       "\n",
       "    .dataframe thead th {\n",
       "        text-align: right;\n",
       "    }\n",
       "</style>\n",
       "<table border=\"1\" class=\"dataframe\">\n",
       "  <thead>\n",
       "    <tr style=\"text-align: right;\">\n",
       "      <th></th>\n",
       "      <th>key</th>\n",
       "      <th>fare_amount</th>\n",
       "      <th>pickup_datetime</th>\n",
       "      <th>pickup_longitude</th>\n",
       "      <th>pickup_latitude</th>\n",
       "      <th>dropoff_longitude</th>\n",
       "      <th>dropoff_latitude</th>\n",
       "      <th>passenger_count</th>\n",
       "      <th>pickup_datetime_year</th>\n",
       "      <th>pickup_datetime_month</th>\n",
       "      <th>pickup_datetime_day</th>\n",
       "      <th>pickup_datetime_weekday</th>\n",
       "      <th>pickup_datetime_hour</th>\n",
       "      <th>trip_distance</th>\n",
       "    </tr>\n",
       "  </thead>\n",
       "  <tbody>\n",
       "    <tr>\n",
       "      <th>0</th>\n",
       "      <td>2009-03-02 20:42:49.0000003</td>\n",
       "      <td>9.8</td>\n",
       "      <td>2009-03-02 20:42:49+00:00</td>\n",
       "      <td>-73.972673</td>\n",
       "      <td>40.759186</td>\n",
       "      <td>-73.969897</td>\n",
       "      <td>40.791367</td>\n",
       "      <td>1</td>\n",
       "      <td>2009</td>\n",
       "      <td>3</td>\n",
       "      <td>2</td>\n",
       "      <td>0</td>\n",
       "      <td>20</td>\n",
       "      <td>3.583739</td>\n",
       "    </tr>\n",
       "    <tr>\n",
       "      <th>1</th>\n",
       "      <td>2015-04-12 10:19:05.0000001</td>\n",
       "      <td>11.5</td>\n",
       "      <td>2015-04-12 10:19:05+00:00</td>\n",
       "      <td>-73.979279</td>\n",
       "      <td>40.723438</td>\n",
       "      <td>-74.004608</td>\n",
       "      <td>40.746948</td>\n",
       "      <td>6</td>\n",
       "      <td>2015</td>\n",
       "      <td>4</td>\n",
       "      <td>12</td>\n",
       "      <td>6</td>\n",
       "      <td>10</td>\n",
       "      <td>3.372594</td>\n",
       "    </tr>\n",
       "    <tr>\n",
       "      <th>2</th>\n",
       "      <td>2012-11-06 11:33:14.0000004</td>\n",
       "      <td>9.5</td>\n",
       "      <td>2012-11-06 11:33:14+00:00</td>\n",
       "      <td>-73.972195</td>\n",
       "      <td>40.765883</td>\n",
       "      <td>-73.967942</td>\n",
       "      <td>40.761951</td>\n",
       "      <td>1</td>\n",
       "      <td>2012</td>\n",
       "      <td>11</td>\n",
       "      <td>6</td>\n",
       "      <td>1</td>\n",
       "      <td>11</td>\n",
       "      <td>0.564851</td>\n",
       "    </tr>\n",
       "    <tr>\n",
       "      <th>3</th>\n",
       "      <td>2012-10-06 15:47:00.000000111</td>\n",
       "      <td>6.5</td>\n",
       "      <td>2012-10-06 15:47:00+00:00</td>\n",
       "      <td>-73.982130</td>\n",
       "      <td>40.774807</td>\n",
       "      <td>-73.973583</td>\n",
       "      <td>40.789645</td>\n",
       "      <td>5</td>\n",
       "      <td>2012</td>\n",
       "      <td>10</td>\n",
       "      <td>6</td>\n",
       "      <td>5</td>\n",
       "      <td>15</td>\n",
       "      <td>1.798889</td>\n",
       "    </tr>\n",
       "    <tr>\n",
       "      <th>4</th>\n",
       "      <td>2015-05-31 07:33:18.0000002</td>\n",
       "      <td>16.5</td>\n",
       "      <td>2015-05-31 07:33:18+00:00</td>\n",
       "      <td>-73.996986</td>\n",
       "      <td>40.755428</td>\n",
       "      <td>-73.953194</td>\n",
       "      <td>40.802101</td>\n",
       "      <td>3</td>\n",
       "      <td>2015</td>\n",
       "      <td>5</td>\n",
       "      <td>31</td>\n",
       "      <td>6</td>\n",
       "      <td>7</td>\n",
       "      <td>6.362372</td>\n",
       "    </tr>\n",
       "    <tr>\n",
       "      <th>...</th>\n",
       "      <td>...</td>\n",
       "      <td>...</td>\n",
       "      <td>...</td>\n",
       "      <td>...</td>\n",
       "      <td>...</td>\n",
       "      <td>...</td>\n",
       "      <td>...</td>\n",
       "      <td>...</td>\n",
       "      <td>...</td>\n",
       "      <td>...</td>\n",
       "      <td>...</td>\n",
       "      <td>...</td>\n",
       "      <td>...</td>\n",
       "      <td>...</td>\n",
       "    </tr>\n",
       "    <tr>\n",
       "      <th>553340</th>\n",
       "      <td>2010-08-14 21:00:17.0000002</td>\n",
       "      <td>10.9</td>\n",
       "      <td>2010-08-14 21:00:17+00:00</td>\n",
       "      <td>-73.966080</td>\n",
       "      <td>40.805193</td>\n",
       "      <td>-73.954060</td>\n",
       "      <td>40.781668</td>\n",
       "      <td>1</td>\n",
       "      <td>2010</td>\n",
       "      <td>8</td>\n",
       "      <td>14</td>\n",
       "      <td>5</td>\n",
       "      <td>21</td>\n",
       "      <td>2.802987</td>\n",
       "    </tr>\n",
       "    <tr>\n",
       "      <th>553341</th>\n",
       "      <td>2012-04-20 09:31:00.00000039</td>\n",
       "      <td>5.7</td>\n",
       "      <td>2012-04-20 09:31:00+00:00</td>\n",
       "      <td>-73.977957</td>\n",
       "      <td>40.748792</td>\n",
       "      <td>-73.989132</td>\n",
       "      <td>40.742062</td>\n",
       "      <td>1</td>\n",
       "      <td>2012</td>\n",
       "      <td>4</td>\n",
       "      <td>20</td>\n",
       "      <td>4</td>\n",
       "      <td>9</td>\n",
       "      <td>1.201860</td>\n",
       "    </tr>\n",
       "    <tr>\n",
       "      <th>553342</th>\n",
       "      <td>2013-01-21 14:17:17.0000002</td>\n",
       "      <td>7.5</td>\n",
       "      <td>2013-01-21 14:17:17+00:00</td>\n",
       "      <td>-73.999356</td>\n",
       "      <td>40.740943</td>\n",
       "      <td>-73.984007</td>\n",
       "      <td>40.746730</td>\n",
       "      <td>1</td>\n",
       "      <td>2013</td>\n",
       "      <td>1</td>\n",
       "      <td>21</td>\n",
       "      <td>0</td>\n",
       "      <td>14</td>\n",
       "      <td>1.443436</td>\n",
       "    </tr>\n",
       "    <tr>\n",
       "      <th>553343</th>\n",
       "      <td>2013-02-20 08:25:20.0000001</td>\n",
       "      <td>11.5</td>\n",
       "      <td>2013-02-20 08:25:20+00:00</td>\n",
       "      <td>-73.983433</td>\n",
       "      <td>40.738376</td>\n",
       "      <td>-73.975043</td>\n",
       "      <td>40.760101</td>\n",
       "      <td>1</td>\n",
       "      <td>2013</td>\n",
       "      <td>2</td>\n",
       "      <td>20</td>\n",
       "      <td>2</td>\n",
       "      <td>8</td>\n",
       "      <td>2.515395</td>\n",
       "    </tr>\n",
       "    <tr>\n",
       "      <th>553344</th>\n",
       "      <td>2010-11-18 07:08:58.0000002</td>\n",
       "      <td>5.7</td>\n",
       "      <td>2010-11-18 07:08:58+00:00</td>\n",
       "      <td>-73.997592</td>\n",
       "      <td>40.735889</td>\n",
       "      <td>-73.984557</td>\n",
       "      <td>40.754055</td>\n",
       "      <td>1</td>\n",
       "      <td>2010</td>\n",
       "      <td>11</td>\n",
       "      <td>18</td>\n",
       "      <td>3</td>\n",
       "      <td>7</td>\n",
       "      <td>2.297715</td>\n",
       "    </tr>\n",
       "  </tbody>\n",
       "</table>\n",
       "<p>553344 rows × 14 columns</p>\n",
       "</div>"
      ],
      "text/plain": [
       "                                  key  fare_amount           pickup_datetime  \\\n",
       "0         2009-03-02 20:42:49.0000003          9.8 2009-03-02 20:42:49+00:00   \n",
       "1         2015-04-12 10:19:05.0000001         11.5 2015-04-12 10:19:05+00:00   \n",
       "2         2012-11-06 11:33:14.0000004          9.5 2012-11-06 11:33:14+00:00   \n",
       "3       2012-10-06 15:47:00.000000111          6.5 2012-10-06 15:47:00+00:00   \n",
       "4         2015-05-31 07:33:18.0000002         16.5 2015-05-31 07:33:18+00:00   \n",
       "...                               ...          ...                       ...   \n",
       "553340    2010-08-14 21:00:17.0000002         10.9 2010-08-14 21:00:17+00:00   \n",
       "553341   2012-04-20 09:31:00.00000039          5.7 2012-04-20 09:31:00+00:00   \n",
       "553342    2013-01-21 14:17:17.0000002          7.5 2013-01-21 14:17:17+00:00   \n",
       "553343    2013-02-20 08:25:20.0000001         11.5 2013-02-20 08:25:20+00:00   \n",
       "553344    2010-11-18 07:08:58.0000002          5.7 2010-11-18 07:08:58+00:00   \n",
       "\n",
       "        pickup_longitude  pickup_latitude  dropoff_longitude  \\\n",
       "0             -73.972673        40.759186         -73.969897   \n",
       "1             -73.979279        40.723438         -74.004608   \n",
       "2             -73.972195        40.765883         -73.967942   \n",
       "3             -73.982130        40.774807         -73.973583   \n",
       "4             -73.996986        40.755428         -73.953194   \n",
       "...                  ...              ...                ...   \n",
       "553340        -73.966080        40.805193         -73.954060   \n",
       "553341        -73.977957        40.748792         -73.989132   \n",
       "553342        -73.999356        40.740943         -73.984007   \n",
       "553343        -73.983433        40.738376         -73.975043   \n",
       "553344        -73.997592        40.735889         -73.984557   \n",
       "\n",
       "        dropoff_latitude  passenger_count  pickup_datetime_year  \\\n",
       "0              40.791367                1                  2009   \n",
       "1              40.746948                6                  2015   \n",
       "2              40.761951                1                  2012   \n",
       "3              40.789645                5                  2012   \n",
       "4              40.802101                3                  2015   \n",
       "...                  ...              ...                   ...   \n",
       "553340         40.781668                1                  2010   \n",
       "553341         40.742062                1                  2012   \n",
       "553342         40.746730                1                  2013   \n",
       "553343         40.760101                1                  2013   \n",
       "553344         40.754055                1                  2010   \n",
       "\n",
       "        pickup_datetime_month  pickup_datetime_day  pickup_datetime_weekday  \\\n",
       "0                           3                    2                        0   \n",
       "1                           4                   12                        6   \n",
       "2                          11                    6                        1   \n",
       "3                          10                    6                        5   \n",
       "4                           5                   31                        6   \n",
       "...                       ...                  ...                      ...   \n",
       "553340                      8                   14                        5   \n",
       "553341                      4                   20                        4   \n",
       "553342                      1                   21                        0   \n",
       "553343                      2                   20                        2   \n",
       "553344                     11                   18                        3   \n",
       "\n",
       "        pickup_datetime_hour  trip_distance  \n",
       "0                         20       3.583739  \n",
       "1                         10       3.372594  \n",
       "2                         11       0.564851  \n",
       "3                         15       1.798889  \n",
       "4                          7       6.362372  \n",
       "...                      ...            ...  \n",
       "553340                    21       2.802987  \n",
       "553341                     9       1.201860  \n",
       "553342                    14       1.443436  \n",
       "553343                     8       2.515395  \n",
       "553344                     7       2.297715  \n",
       "\n",
       "[553344 rows x 14 columns]"
      ]
     },
     "execution_count": 66,
     "metadata": {},
     "output_type": "execute_result"
    }
   ],
   "source": [
    "train_df"
   ]
  },
  {
   "cell_type": "code",
   "execution_count": null,
   "metadata": {},
   "outputs": [],
   "source": [
    "#Adding distance from popular landmark\n",
    "#JFK Airport\n",
    "jfk = -73.7781, 40.6413\n",
    "\n",
    "#LGA Airport\n",
    "lga = -73.8740, 40.7769\n",
    "\n",
    "#EWR Ariport\n",
    "ewr = -74.175, 40.6895\n",
    "\n",
    "#MET Museum\n",
    "met = -74.9632, 40.7794\n",
    "\n",
    "#World Trade Centre\n",
    "wtc = -74.0099, 40.7126\n"
   ]
  },
  {
   "cell_type": "code",
   "execution_count": null,
   "metadata": {},
   "outputs": [],
   "source": [
    "#Creating a Function to add the distance from a landmark to the pickup location\n",
    "def add_landmark_pickup_distance(df, landmark, lonlat):\n",
    "    lon, lat = lonlat\n",
    "    df[landmark + 'pickup_distance'] = haversine_np(lon, lat, \n",
    "                                                    df['pickup_longitude'], \n",
    "                                                    df['pickup_latitude'])"
   ]
  },
  {
   "cell_type": "code",
   "execution_count": null,
   "metadata": {},
   "outputs": [],
   "source": []
  }
 ],
 "metadata": {
  "kernelspec": {
   "display_name": "Python 3 (ipykernel)",
   "language": "python",
   "name": "python3"
  },
  "language_info": {
   "codemirror_mode": {
    "name": "ipython",
    "version": 3
   },
   "file_extension": ".py",
   "mimetype": "text/x-python",
   "name": "python",
   "nbconvert_exporter": "python",
   "pygments_lexer": "ipython3",
   "version": "3.9.13"
  }
 },
 "nbformat": 4,
 "nbformat_minor": 4
}
